{
 "cells": [
  {
   "cell_type": "markdown",
   "id": "fc94052f",
   "metadata": {},
   "source": [
    "# *Imports* e outras *configs*"
   ]
  },
  {
   "cell_type": "code",
   "execution_count": 3,
   "id": "b35d5194",
   "metadata": {},
   "outputs": [],
   "source": [
    "import pandas as pd"
   ]
  },
  {
   "cell_type": "markdown",
   "id": "98dd557e",
   "metadata": {},
   "source": [
    "Leitura da Base"
   ]
  },
  {
   "cell_type": "code",
   "execution_count": 4,
   "metadata": {},
   "outputs": [],
   "source": [
    "df = pd.read_csv(\"../extracao_datasus/datasus.csv\", low_memory=False)"
   ]
  },
  {
   "cell_type": "code",
   "execution_count": 5,
   "id": "78b1d50c",
   "metadata": {},
   "outputs": [
    {
     "data": {
      "text/html": [
       "<div>\n",
       "<style scoped>\n",
       "    .dataframe tbody tr th:only-of-type {\n",
       "        vertical-align: middle;\n",
       "    }\n",
       "\n",
       "    .dataframe tbody tr th {\n",
       "        vertical-align: top;\n",
       "    }\n",
       "\n",
       "    .dataframe thead th {\n",
       "        text-align: right;\n",
       "    }\n",
       "</style>\n",
       "<table border=\"1\" class=\"dataframe\">\n",
       "  <thead>\n",
       "    <tr style=\"text-align: right;\">\n",
       "      <th></th>\n",
       "      <th>CONTADOR</th>\n",
       "      <th>ORIGEM</th>\n",
       "      <th>TIPOBITO</th>\n",
       "      <th>DTOBITO</th>\n",
       "      <th>HORAOBITO</th>\n",
       "      <th>NATURAL</th>\n",
       "      <th>DTNASC</th>\n",
       "      <th>SEXO</th>\n",
       "      <th>RACACOR</th>\n",
       "      <th>ESTCIV</th>\n",
       "      <th>...</th>\n",
       "      <th>TPRESGINFO</th>\n",
       "      <th>TPNIVELINV</th>\n",
       "      <th>NUDIASINF</th>\n",
       "      <th>FONTESINF</th>\n",
       "      <th>ALTCAUSA</th>\n",
       "      <th>IDADEminutos</th>\n",
       "      <th>IDADEhoras</th>\n",
       "      <th>IDADEdias</th>\n",
       "      <th>IDADEmeses</th>\n",
       "      <th>IDADEanos</th>\n",
       "    </tr>\n",
       "  </thead>\n",
       "  <tbody>\n",
       "    <tr>\n",
       "      <th>0</th>\n",
       "      <td>1</td>\n",
       "      <td>1</td>\n",
       "      <td>Não Fetal</td>\n",
       "      <td>2010-07-22</td>\n",
       "      <td>0700</td>\n",
       "      <td>NaN</td>\n",
       "      <td>1933-01-18</td>\n",
       "      <td>Masculino</td>\n",
       "      <td>Branca</td>\n",
       "      <td>Casado</td>\n",
       "      <td>...</td>\n",
       "      <td>NaN</td>\n",
       "      <td>NaN</td>\n",
       "      <td>NaN</td>\n",
       "      <td>NaN</td>\n",
       "      <td>NaN</td>\n",
       "      <td>NaN</td>\n",
       "      <td>NaN</td>\n",
       "      <td>NaN</td>\n",
       "      <td>NaN</td>\n",
       "      <td>77.0</td>\n",
       "    </tr>\n",
       "    <tr>\n",
       "      <th>1</th>\n",
       "      <td>2</td>\n",
       "      <td>1</td>\n",
       "      <td>Não Fetal</td>\n",
       "      <td>2010-08-30</td>\n",
       "      <td>0700</td>\n",
       "      <td>NaN</td>\n",
       "      <td>1945-11-05</td>\n",
       "      <td>Feminino</td>\n",
       "      <td>Preta</td>\n",
       "      <td>Solteiro</td>\n",
       "      <td>...</td>\n",
       "      <td>NaN</td>\n",
       "      <td>NaN</td>\n",
       "      <td>NaN</td>\n",
       "      <td>NaN</td>\n",
       "      <td>NaN</td>\n",
       "      <td>NaN</td>\n",
       "      <td>NaN</td>\n",
       "      <td>NaN</td>\n",
       "      <td>NaN</td>\n",
       "      <td>64.0</td>\n",
       "    </tr>\n",
       "    <tr>\n",
       "      <th>2</th>\n",
       "      <td>3</td>\n",
       "      <td>1</td>\n",
       "      <td>Não Fetal</td>\n",
       "      <td>2010-09-25</td>\n",
       "      <td>1700</td>\n",
       "      <td>NaN</td>\n",
       "      <td>1938-05-26</td>\n",
       "      <td>Masculino</td>\n",
       "      <td>Amarela</td>\n",
       "      <td>Casado</td>\n",
       "      <td>...</td>\n",
       "      <td>NaN</td>\n",
       "      <td>NaN</td>\n",
       "      <td>NaN</td>\n",
       "      <td>NaN</td>\n",
       "      <td>NaN</td>\n",
       "      <td>NaN</td>\n",
       "      <td>NaN</td>\n",
       "      <td>NaN</td>\n",
       "      <td>NaN</td>\n",
       "      <td>72.0</td>\n",
       "    </tr>\n",
       "    <tr>\n",
       "      <th>3</th>\n",
       "      <td>4</td>\n",
       "      <td>1</td>\n",
       "      <td>Não Fetal</td>\n",
       "      <td>2010-01-29</td>\n",
       "      <td>0740</td>\n",
       "      <td>NaN</td>\n",
       "      <td>1966-03-04</td>\n",
       "      <td>Masculino</td>\n",
       "      <td>NaN</td>\n",
       "      <td>Solteiro</td>\n",
       "      <td>...</td>\n",
       "      <td>NaN</td>\n",
       "      <td>NaN</td>\n",
       "      <td>NaN</td>\n",
       "      <td>NaN</td>\n",
       "      <td>NaN</td>\n",
       "      <td>NaN</td>\n",
       "      <td>NaN</td>\n",
       "      <td>NaN</td>\n",
       "      <td>NaN</td>\n",
       "      <td>43.0</td>\n",
       "    </tr>\n",
       "    <tr>\n",
       "      <th>4</th>\n",
       "      <td>5</td>\n",
       "      <td>1</td>\n",
       "      <td>Não Fetal</td>\n",
       "      <td>2010-07-01</td>\n",
       "      <td>1600</td>\n",
       "      <td>NaN</td>\n",
       "      <td>1927-11-04</td>\n",
       "      <td>Masculino</td>\n",
       "      <td>Branca</td>\n",
       "      <td>Viúvo</td>\n",
       "      <td>...</td>\n",
       "      <td>NaN</td>\n",
       "      <td>NaN</td>\n",
       "      <td>NaN</td>\n",
       "      <td>NaN</td>\n",
       "      <td>NaN</td>\n",
       "      <td>NaN</td>\n",
       "      <td>NaN</td>\n",
       "      <td>NaN</td>\n",
       "      <td>NaN</td>\n",
       "      <td>82.0</td>\n",
       "    </tr>\n",
       "  </tbody>\n",
       "</table>\n",
       "<p>5 rows × 100 columns</p>\n",
       "</div>"
      ],
      "text/plain": [
       "   CONTADOR  ORIGEM   TIPOBITO     DTOBITO HORAOBITO NATURAL      DTNASC  \\\n",
       "0         1       1  Não Fetal  2010-07-22      0700     NaN  1933-01-18   \n",
       "1         2       1  Não Fetal  2010-08-30      0700     NaN  1945-11-05   \n",
       "2         3       1  Não Fetal  2010-09-25      1700     NaN  1938-05-26   \n",
       "3         4       1  Não Fetal  2010-01-29      0740     NaN  1966-03-04   \n",
       "4         5       1  Não Fetal  2010-07-01      1600     NaN  1927-11-04   \n",
       "\n",
       "        SEXO  RACACOR    ESTCIV  ... TPRESGINFO TPNIVELINV  NUDIASINF  \\\n",
       "0  Masculino   Branca    Casado  ...        NaN        NaN        NaN   \n",
       "1   Feminino    Preta  Solteiro  ...        NaN        NaN        NaN   \n",
       "2  Masculino  Amarela    Casado  ...        NaN        NaN        NaN   \n",
       "3  Masculino      NaN  Solteiro  ...        NaN        NaN        NaN   \n",
       "4  Masculino   Branca     Viúvo  ...        NaN        NaN        NaN   \n",
       "\n",
       "   FONTESINF ALTCAUSA  IDADEminutos  IDADEhoras  IDADEdias  IDADEmeses  \\\n",
       "0        NaN      NaN           NaN         NaN        NaN         NaN   \n",
       "1        NaN      NaN           NaN         NaN        NaN         NaN   \n",
       "2        NaN      NaN           NaN         NaN        NaN         NaN   \n",
       "3        NaN      NaN           NaN         NaN        NaN         NaN   \n",
       "4        NaN      NaN           NaN         NaN        NaN         NaN   \n",
       "\n",
       "  IDADEanos  \n",
       "0      77.0  \n",
       "1      64.0  \n",
       "2      72.0  \n",
       "3      43.0  \n",
       "4      82.0  \n",
       "\n",
       "[5 rows x 100 columns]"
      ]
     },
     "execution_count": 5,
     "metadata": {},
     "output_type": "execute_result"
    }
   ],
   "source": [
    "df.head()"
   ]
  },
  {
   "cell_type": "code",
   "execution_count": 6,
   "id": "6ad03745",
   "metadata": {},
   "outputs": [],
   "source": [
    "#null_counter = df.isnull().sum()\n",
    "#pd.DataFrame(null_counter)"
   ]
  },
  {
   "cell_type": "markdown",
   "id": "404c3496",
   "metadata": {},
   "source": [
    "Quantos CIDs (único) estão na causa base:"
   ]
  },
  {
   "cell_type": "code",
   "execution_count": 7,
   "id": "a08513ba",
   "metadata": {},
   "outputs": [
    {
     "data": {
      "text/plain": [
       "6308"
      ]
     },
     "execution_count": 7,
     "metadata": {},
     "output_type": "execute_result"
    }
   ],
   "source": [
    "df[\"CAUSABAS\"].nunique()"
   ]
  },
  {
   "cell_type": "markdown",
   "id": "02156847",
   "metadata": {},
   "source": [
    "Os sexos na base estão como \"Masculino\" e \"Feminino\""
   ]
  },
  {
   "cell_type": "code",
   "execution_count": 8,
   "id": "e245ca30",
   "metadata": {},
   "outputs": [
    {
     "data": {
      "text/plain": [
       "0.023073518154138634"
      ]
     },
     "execution_count": 8,
     "metadata": {},
     "output_type": "execute_result"
    }
   ],
   "source": [
    "df[\"SEXO\"].isnull().sum()/len(df)*100"
   ]
  },
  {
   "cell_type": "code",
   "execution_count": 9,
   "id": "3dd0ebd7",
   "metadata": {},
   "outputs": [
    {
     "data": {
      "text/html": [
       "<div>\n",
       "<style scoped>\n",
       "    .dataframe tbody tr th:only-of-type {\n",
       "        vertical-align: middle;\n",
       "    }\n",
       "\n",
       "    .dataframe tbody tr th {\n",
       "        vertical-align: top;\n",
       "    }\n",
       "\n",
       "    .dataframe thead th {\n",
       "        text-align: right;\n",
       "    }\n",
       "</style>\n",
       "<table border=\"1\" class=\"dataframe\">\n",
       "  <thead>\n",
       "    <tr style=\"text-align: right;\">\n",
       "      <th></th>\n",
       "      <th>Masculino</th>\n",
       "      <th>Feminino</th>\n",
       "    </tr>\n",
       "  </thead>\n",
       "  <tbody>\n",
       "    <tr>\n",
       "      <th>0</th>\n",
       "      <td>2175672</td>\n",
       "      <td>1806330</td>\n",
       "    </tr>\n",
       "  </tbody>\n",
       "</table>\n",
       "</div>"
      ],
      "text/plain": [
       "   Masculino  Feminino\n",
       "0    2175672   1806330"
      ]
     },
     "execution_count": 9,
     "metadata": {},
     "output_type": "execute_result"
    }
   ],
   "source": [
    "count_sexo = {   \n",
    "    \"Masculino\": df[df[\"SEXO\"] == \"Masculino\"][\"SEXO\"].count(),\n",
    "    \"Feminino\": df[df[\"SEXO\"] == \"Feminino\"][\"SEXO\"].count()\n",
    "}\n",
    "\n",
    "pd.DataFrame([count_sexo])"
   ]
  },
  {
   "cell_type": "code",
   "execution_count": 10,
   "id": "6d6504e7",
   "metadata": {},
   "outputs": [
    {
     "data": {
      "text/plain": [
       "{'Masculino': 54.6376420704962, 'Feminino': 45.3623579295038}"
      ]
     },
     "execution_count": 10,
     "metadata": {},
     "output_type": "execute_result"
    }
   ],
   "source": [
    "sexo_total = count_sexo[\"Feminino\"] + count_sexo[\"Masculino\"]\n",
    "sexo_pct = {\n",
    "    \"Masculino\": count_sexo[\"Masculino\"]/sexo_total*100,\n",
    "    \"Feminino\": count_sexo[\"Feminino\"]/sexo_total*100\n",
    "}\n",
    "sexo_pct"
   ]
  },
  {
   "cell_type": "markdown",
   "id": "a507a16b",
   "metadata": {},
   "source": [
    "Raça/cor na base: 'Branca', 'Preta', 'Amarela', nan, 'Parda', 'Indígena'"
   ]
  },
  {
   "cell_type": "code",
   "execution_count": 11,
   "id": "4b9864b8",
   "metadata": {},
   "outputs": [
    {
     "data": {
      "text/plain": [
       "2.663422146710919"
      ]
     },
     "execution_count": 11,
     "metadata": {},
     "output_type": "execute_result"
    }
   ],
   "source": [
    "df[\"RACACOR\"].isnull().sum()/len(df)*100"
   ]
  },
  {
   "cell_type": "code",
   "execution_count": 12,
   "id": "3319c72c",
   "metadata": {},
   "outputs": [
    {
     "data": {
      "text/html": [
       "<div>\n",
       "<style scoped>\n",
       "    .dataframe tbody tr th:only-of-type {\n",
       "        vertical-align: middle;\n",
       "    }\n",
       "\n",
       "    .dataframe tbody tr th {\n",
       "        vertical-align: top;\n",
       "    }\n",
       "\n",
       "    .dataframe thead th {\n",
       "        text-align: right;\n",
       "    }\n",
       "</style>\n",
       "<table border=\"1\" class=\"dataframe\">\n",
       "  <thead>\n",
       "    <tr style=\"text-align: right;\">\n",
       "      <th></th>\n",
       "      <th>Branca</th>\n",
       "      <th>Preta</th>\n",
       "      <th>Amarela</th>\n",
       "      <th>Parda</th>\n",
       "      <th>Indígena</th>\n",
       "    </tr>\n",
       "  </thead>\n",
       "  <tbody>\n",
       "    <tr>\n",
       "      <th>0</th>\n",
       "      <td>2838663</td>\n",
       "      <td>247682</td>\n",
       "      <td>54508</td>\n",
       "      <td>734223</td>\n",
       "      <td>1763</td>\n",
       "    </tr>\n",
       "  </tbody>\n",
       "</table>\n",
       "</div>"
      ],
      "text/plain": [
       "    Branca   Preta  Amarela   Parda  Indígena\n",
       "0  2838663  247682    54508  734223      1763"
      ]
     },
     "execution_count": 12,
     "metadata": {},
     "output_type": "execute_result"
    }
   ],
   "source": [
    "count_raca = {\n",
    "    \"Branca\": df[df[\"RACACOR\"] == \"Branca\"][\"RACACOR\"].count(),\n",
    "    \"Preta\": df[df[\"RACACOR\"] == \"Preta\"][\"RACACOR\"].count(),\n",
    "    \"Amarela\": df[df[\"RACACOR\"] == \"Amarela\"][\"RACACOR\"].count(),\n",
    "    \"Parda\": df[df[\"RACACOR\"] == \"Parda\"][\"RACACOR\"].count(),\n",
    "    \"Indígena\": df[df[\"RACACOR\"] == \"Indígena\"][\"RACACOR\"].count()\n",
    "}\n",
    "\n",
    "pd.DataFrame([count_raca])"
   ]
  },
  {
   "cell_type": "code",
   "execution_count": 15,
   "id": "8b94d994",
   "metadata": {},
   "outputs": [
    {
     "data": {
      "text/plain": [
       "{'Branca': 73.22107005217396,\n",
       " 'Preta': 6.388761565801417,\n",
       " 'Amarela': 1.4059908084911446,\n",
       " 'Parda': 18.938702380986157,\n",
       " 'Indígena': 0.04547519254733044}"
      ]
     },
     "execution_count": 15,
     "metadata": {},
     "output_type": "execute_result"
    }
   ],
   "source": [
    "raca_total = sum(count_raca.values())\n",
    "raca_pct = {\n",
    "    \"Branca\": count_raca[\"Branca\"]/raca_total*100,\n",
    "    \"Preta\": count_raca[\"Preta\"]/raca_total*100,\n",
    "    \"Amarela\": count_raca[\"Amarela\"]/raca_total*100,\n",
    "    \"Parda\": count_raca[\"Parda\"]/raca_total*100,\n",
    "    \"Indígena\": count_raca[\"Indígena\"]/raca_total*100,\n",
    "}\n",
    "\n",
    "raca_pct"
   ]
  }
 ],
 "metadata": {
  "kernelspec": {
   "display_name": "Python 3",
   "language": "python",
   "name": "python3"
  },
  "language_info": {
   "codemirror_mode": {
    "name": "ipython",
    "version": 3
   },
   "file_extension": ".py",
   "mimetype": "text/x-python",
   "name": "python",
   "nbconvert_exporter": "python",
   "pygments_lexer": "ipython3",
   "version": "3.11.3"
  }
 },
 "nbformat": 4,
 "nbformat_minor": 5
}
