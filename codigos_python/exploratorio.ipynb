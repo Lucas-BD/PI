{
 "cells": [
  {
   "cell_type": "markdown",
   "id": "fc94052f",
   "metadata": {},
   "source": [
    "# *Imports* e outras *configs*"
   ]
  },
  {
   "cell_type": "code",
   "execution_count": 54,
   "id": "b35d5194",
   "metadata": {},
   "outputs": [],
   "source": [
    "import pandas as pd\n",
    "import numpy as np"
   ]
  },
  {
   "cell_type": "markdown",
   "id": "98dd557e",
   "metadata": {},
   "source": [
    "Leitura da Base"
   ]
  },
  {
   "cell_type": "code",
   "execution_count": 2,
   "metadata": {},
   "outputs": [],
   "source": [
    "df = pd.read_csv(\"../extracao_datasus/datasus.csv\", low_memory=False)"
   ]
  },
  {
   "cell_type": "code",
   "execution_count": 3,
   "id": "78b1d50c",
   "metadata": {},
   "outputs": [
    {
     "data": {
      "text/html": [
       "<div>\n",
       "<style scoped>\n",
       "    .dataframe tbody tr th:only-of-type {\n",
       "        vertical-align: middle;\n",
       "    }\n",
       "\n",
       "    .dataframe tbody tr th {\n",
       "        vertical-align: top;\n",
       "    }\n",
       "\n",
       "    .dataframe thead th {\n",
       "        text-align: right;\n",
       "    }\n",
       "</style>\n",
       "<table border=\"1\" class=\"dataframe\">\n",
       "  <thead>\n",
       "    <tr style=\"text-align: right;\">\n",
       "      <th></th>\n",
       "      <th>CONTADOR</th>\n",
       "      <th>ORIGEM</th>\n",
       "      <th>TIPOBITO</th>\n",
       "      <th>DTOBITO</th>\n",
       "      <th>HORAOBITO</th>\n",
       "      <th>NATURAL</th>\n",
       "      <th>DTNASC</th>\n",
       "      <th>SEXO</th>\n",
       "      <th>RACACOR</th>\n",
       "      <th>ESTCIV</th>\n",
       "      <th>...</th>\n",
       "      <th>TPRESGINFO</th>\n",
       "      <th>TPNIVELINV</th>\n",
       "      <th>NUDIASINF</th>\n",
       "      <th>FONTESINF</th>\n",
       "      <th>ALTCAUSA</th>\n",
       "      <th>IDADEminutos</th>\n",
       "      <th>IDADEhoras</th>\n",
       "      <th>IDADEdias</th>\n",
       "      <th>IDADEmeses</th>\n",
       "      <th>IDADEanos</th>\n",
       "    </tr>\n",
       "  </thead>\n",
       "  <tbody>\n",
       "    <tr>\n",
       "      <th>0</th>\n",
       "      <td>1</td>\n",
       "      <td>1</td>\n",
       "      <td>Não Fetal</td>\n",
       "      <td>2010-07-22</td>\n",
       "      <td>0700</td>\n",
       "      <td>NaN</td>\n",
       "      <td>1933-01-18</td>\n",
       "      <td>Masculino</td>\n",
       "      <td>Branca</td>\n",
       "      <td>Casado</td>\n",
       "      <td>...</td>\n",
       "      <td>NaN</td>\n",
       "      <td>NaN</td>\n",
       "      <td>NaN</td>\n",
       "      <td>NaN</td>\n",
       "      <td>NaN</td>\n",
       "      <td>NaN</td>\n",
       "      <td>NaN</td>\n",
       "      <td>NaN</td>\n",
       "      <td>NaN</td>\n",
       "      <td>77.0</td>\n",
       "    </tr>\n",
       "    <tr>\n",
       "      <th>1</th>\n",
       "      <td>2</td>\n",
       "      <td>1</td>\n",
       "      <td>Não Fetal</td>\n",
       "      <td>2010-08-30</td>\n",
       "      <td>0700</td>\n",
       "      <td>NaN</td>\n",
       "      <td>1945-11-05</td>\n",
       "      <td>Feminino</td>\n",
       "      <td>Preta</td>\n",
       "      <td>Solteiro</td>\n",
       "      <td>...</td>\n",
       "      <td>NaN</td>\n",
       "      <td>NaN</td>\n",
       "      <td>NaN</td>\n",
       "      <td>NaN</td>\n",
       "      <td>NaN</td>\n",
       "      <td>NaN</td>\n",
       "      <td>NaN</td>\n",
       "      <td>NaN</td>\n",
       "      <td>NaN</td>\n",
       "      <td>64.0</td>\n",
       "    </tr>\n",
       "    <tr>\n",
       "      <th>2</th>\n",
       "      <td>3</td>\n",
       "      <td>1</td>\n",
       "      <td>Não Fetal</td>\n",
       "      <td>2010-09-25</td>\n",
       "      <td>1700</td>\n",
       "      <td>NaN</td>\n",
       "      <td>1938-05-26</td>\n",
       "      <td>Masculino</td>\n",
       "      <td>Amarela</td>\n",
       "      <td>Casado</td>\n",
       "      <td>...</td>\n",
       "      <td>NaN</td>\n",
       "      <td>NaN</td>\n",
       "      <td>NaN</td>\n",
       "      <td>NaN</td>\n",
       "      <td>NaN</td>\n",
       "      <td>NaN</td>\n",
       "      <td>NaN</td>\n",
       "      <td>NaN</td>\n",
       "      <td>NaN</td>\n",
       "      <td>72.0</td>\n",
       "    </tr>\n",
       "    <tr>\n",
       "      <th>3</th>\n",
       "      <td>4</td>\n",
       "      <td>1</td>\n",
       "      <td>Não Fetal</td>\n",
       "      <td>2010-01-29</td>\n",
       "      <td>0740</td>\n",
       "      <td>NaN</td>\n",
       "      <td>1966-03-04</td>\n",
       "      <td>Masculino</td>\n",
       "      <td>NaN</td>\n",
       "      <td>Solteiro</td>\n",
       "      <td>...</td>\n",
       "      <td>NaN</td>\n",
       "      <td>NaN</td>\n",
       "      <td>NaN</td>\n",
       "      <td>NaN</td>\n",
       "      <td>NaN</td>\n",
       "      <td>NaN</td>\n",
       "      <td>NaN</td>\n",
       "      <td>NaN</td>\n",
       "      <td>NaN</td>\n",
       "      <td>43.0</td>\n",
       "    </tr>\n",
       "    <tr>\n",
       "      <th>4</th>\n",
       "      <td>5</td>\n",
       "      <td>1</td>\n",
       "      <td>Não Fetal</td>\n",
       "      <td>2010-07-01</td>\n",
       "      <td>1600</td>\n",
       "      <td>NaN</td>\n",
       "      <td>1927-11-04</td>\n",
       "      <td>Masculino</td>\n",
       "      <td>Branca</td>\n",
       "      <td>Viúvo</td>\n",
       "      <td>...</td>\n",
       "      <td>NaN</td>\n",
       "      <td>NaN</td>\n",
       "      <td>NaN</td>\n",
       "      <td>NaN</td>\n",
       "      <td>NaN</td>\n",
       "      <td>NaN</td>\n",
       "      <td>NaN</td>\n",
       "      <td>NaN</td>\n",
       "      <td>NaN</td>\n",
       "      <td>82.0</td>\n",
       "    </tr>\n",
       "  </tbody>\n",
       "</table>\n",
       "<p>5 rows × 100 columns</p>\n",
       "</div>"
      ],
      "text/plain": [
       "   CONTADOR  ORIGEM   TIPOBITO     DTOBITO HORAOBITO NATURAL      DTNASC  \\\n",
       "0         1       1  Não Fetal  2010-07-22      0700     NaN  1933-01-18   \n",
       "1         2       1  Não Fetal  2010-08-30      0700     NaN  1945-11-05   \n",
       "2         3       1  Não Fetal  2010-09-25      1700     NaN  1938-05-26   \n",
       "3         4       1  Não Fetal  2010-01-29      0740     NaN  1966-03-04   \n",
       "4         5       1  Não Fetal  2010-07-01      1600     NaN  1927-11-04   \n",
       "\n",
       "        SEXO  RACACOR    ESTCIV  ... TPRESGINFO TPNIVELINV  NUDIASINF  \\\n",
       "0  Masculino   Branca    Casado  ...        NaN        NaN        NaN   \n",
       "1   Feminino    Preta  Solteiro  ...        NaN        NaN        NaN   \n",
       "2  Masculino  Amarela    Casado  ...        NaN        NaN        NaN   \n",
       "3  Masculino      NaN  Solteiro  ...        NaN        NaN        NaN   \n",
       "4  Masculino   Branca     Viúvo  ...        NaN        NaN        NaN   \n",
       "\n",
       "   FONTESINF ALTCAUSA  IDADEminutos  IDADEhoras  IDADEdias  IDADEmeses  \\\n",
       "0        NaN      NaN           NaN         NaN        NaN         NaN   \n",
       "1        NaN      NaN           NaN         NaN        NaN         NaN   \n",
       "2        NaN      NaN           NaN         NaN        NaN         NaN   \n",
       "3        NaN      NaN           NaN         NaN        NaN         NaN   \n",
       "4        NaN      NaN           NaN         NaN        NaN         NaN   \n",
       "\n",
       "  IDADEanos  \n",
       "0      77.0  \n",
       "1      64.0  \n",
       "2      72.0  \n",
       "3      43.0  \n",
       "4      82.0  \n",
       "\n",
       "[5 rows x 100 columns]"
      ]
     },
     "execution_count": 3,
     "metadata": {},
     "output_type": "execute_result"
    }
   ],
   "source": [
    "df.head()"
   ]
  },
  {
   "cell_type": "code",
   "execution_count": 4,
   "id": "6ad03745",
   "metadata": {},
   "outputs": [],
   "source": [
    "#null_counter = df.isnull().sum()\n",
    "#pd.DataFrame(null_counter)"
   ]
  },
  {
   "cell_type": "markdown",
   "id": "404c3496",
   "metadata": {},
   "source": [
    "Quantos CIDs (único) estão na causa base:"
   ]
  },
  {
   "cell_type": "code",
   "execution_count": 5,
   "id": "a08513ba",
   "metadata": {},
   "outputs": [
    {
     "data": {
      "text/plain": [
       "6308"
      ]
     },
     "execution_count": 5,
     "metadata": {},
     "output_type": "execute_result"
    }
   ],
   "source": [
    "df[\"CAUSABAS\"].nunique()"
   ]
  },
  {
   "cell_type": "markdown",
   "id": "02156847",
   "metadata": {},
   "source": [
    "Os sexos na base estão como \"Masculino\" e \"Feminino\""
   ]
  },
  {
   "cell_type": "code",
   "execution_count": 6,
   "id": "e245ca30",
   "metadata": {},
   "outputs": [
    {
     "data": {
      "text/plain": [
       "0.023073518154138634"
      ]
     },
     "execution_count": 6,
     "metadata": {},
     "output_type": "execute_result"
    }
   ],
   "source": [
    "df[\"SEXO\"].isnull().sum()/len(df)*100"
   ]
  },
  {
   "cell_type": "code",
   "execution_count": 7,
   "id": "3dd0ebd7",
   "metadata": {},
   "outputs": [
    {
     "data": {
      "text/html": [
       "<div>\n",
       "<style scoped>\n",
       "    .dataframe tbody tr th:only-of-type {\n",
       "        vertical-align: middle;\n",
       "    }\n",
       "\n",
       "    .dataframe tbody tr th {\n",
       "        vertical-align: top;\n",
       "    }\n",
       "\n",
       "    .dataframe thead th {\n",
       "        text-align: right;\n",
       "    }\n",
       "</style>\n",
       "<table border=\"1\" class=\"dataframe\">\n",
       "  <thead>\n",
       "    <tr style=\"text-align: right;\">\n",
       "      <th></th>\n",
       "      <th>Masculino</th>\n",
       "      <th>Feminino</th>\n",
       "    </tr>\n",
       "  </thead>\n",
       "  <tbody>\n",
       "    <tr>\n",
       "      <th>0</th>\n",
       "      <td>2175672</td>\n",
       "      <td>1806330</td>\n",
       "    </tr>\n",
       "  </tbody>\n",
       "</table>\n",
       "</div>"
      ],
      "text/plain": [
       "   Masculino  Feminino\n",
       "0    2175672   1806330"
      ]
     },
     "execution_count": 7,
     "metadata": {},
     "output_type": "execute_result"
    }
   ],
   "source": [
    "count_sexo = {   \n",
    "    \"Masculino\": df[df[\"SEXO\"] == \"Masculino\"][\"SEXO\"].count(),\n",
    "    \"Feminino\": df[df[\"SEXO\"] == \"Feminino\"][\"SEXO\"].count()\n",
    "}\n",
    "\n",
    "pd.DataFrame([count_sexo])"
   ]
  },
  {
   "cell_type": "code",
   "execution_count": 8,
   "id": "6d6504e7",
   "metadata": {},
   "outputs": [
    {
     "data": {
      "text/plain": [
       "{'Masculino': 54.6376420704962, 'Feminino': 45.3623579295038}"
      ]
     },
     "execution_count": 8,
     "metadata": {},
     "output_type": "execute_result"
    }
   ],
   "source": [
    "sexo_total = count_sexo[\"Feminino\"] + count_sexo[\"Masculino\"]\n",
    "sexo_pct = {\n",
    "    \"Masculino\": count_sexo[\"Masculino\"]/sexo_total*100,\n",
    "    \"Feminino\": count_sexo[\"Feminino\"]/sexo_total*100\n",
    "}\n",
    "sexo_pct"
   ]
  },
  {
   "cell_type": "markdown",
   "id": "a507a16b",
   "metadata": {},
   "source": [
    "Raça/cor na base: 'Branca', 'Preta', 'Amarela', nan, 'Parda', 'Indígena'"
   ]
  },
  {
   "cell_type": "code",
   "execution_count": 9,
   "id": "4b9864b8",
   "metadata": {},
   "outputs": [
    {
     "data": {
      "text/plain": [
       "2.663422146710919"
      ]
     },
     "execution_count": 9,
     "metadata": {},
     "output_type": "execute_result"
    }
   ],
   "source": [
    "df[\"RACACOR\"].isnull().sum()/len(df)*100"
   ]
  },
  {
   "cell_type": "code",
   "execution_count": 10,
   "id": "3319c72c",
   "metadata": {},
   "outputs": [
    {
     "data": {
      "text/html": [
       "<div>\n",
       "<style scoped>\n",
       "    .dataframe tbody tr th:only-of-type {\n",
       "        vertical-align: middle;\n",
       "    }\n",
       "\n",
       "    .dataframe tbody tr th {\n",
       "        vertical-align: top;\n",
       "    }\n",
       "\n",
       "    .dataframe thead th {\n",
       "        text-align: right;\n",
       "    }\n",
       "</style>\n",
       "<table border=\"1\" class=\"dataframe\">\n",
       "  <thead>\n",
       "    <tr style=\"text-align: right;\">\n",
       "      <th></th>\n",
       "      <th>Branca</th>\n",
       "      <th>Preta</th>\n",
       "      <th>Amarela</th>\n",
       "      <th>Parda</th>\n",
       "      <th>Indígena</th>\n",
       "    </tr>\n",
       "  </thead>\n",
       "  <tbody>\n",
       "    <tr>\n",
       "      <th>0</th>\n",
       "      <td>2838663</td>\n",
       "      <td>247682</td>\n",
       "      <td>54508</td>\n",
       "      <td>734223</td>\n",
       "      <td>1763</td>\n",
       "    </tr>\n",
       "  </tbody>\n",
       "</table>\n",
       "</div>"
      ],
      "text/plain": [
       "    Branca   Preta  Amarela   Parda  Indígena\n",
       "0  2838663  247682    54508  734223      1763"
      ]
     },
     "execution_count": 10,
     "metadata": {},
     "output_type": "execute_result"
    }
   ],
   "source": [
    "count_raca = {\n",
    "    \"Branca\": df[df[\"RACACOR\"] == \"Branca\"][\"RACACOR\"].count(),\n",
    "    \"Preta\": df[df[\"RACACOR\"] == \"Preta\"][\"RACACOR\"].count(),\n",
    "    \"Amarela\": df[df[\"RACACOR\"] == \"Amarela\"][\"RACACOR\"].count(),\n",
    "    \"Parda\": df[df[\"RACACOR\"] == \"Parda\"][\"RACACOR\"].count(),\n",
    "    \"Indígena\": df[df[\"RACACOR\"] == \"Indígena\"][\"RACACOR\"].count()\n",
    "}\n",
    "\n",
    "pd.DataFrame([count_raca])"
   ]
  },
  {
   "cell_type": "code",
   "execution_count": 11,
   "id": "8b94d994",
   "metadata": {},
   "outputs": [
    {
     "data": {
      "text/plain": [
       "{'Branca': 73.22107005217396,\n",
       " 'Preta': 6.388761565801417,\n",
       " 'Amarela': 1.4059908084911446,\n",
       " 'Parda': 18.938702380986157,\n",
       " 'Indígena': 0.04547519254733044}"
      ]
     },
     "execution_count": 11,
     "metadata": {},
     "output_type": "execute_result"
    }
   ],
   "source": [
    "raca_total = sum(count_raca.values())\n",
    "raca_pct = {\n",
    "    \"Branca\": count_raca[\"Branca\"]/raca_total*100,\n",
    "    \"Preta\": count_raca[\"Preta\"]/raca_total*100,\n",
    "    \"Amarela\": count_raca[\"Amarela\"]/raca_total*100,\n",
    "    \"Parda\": count_raca[\"Parda\"]/raca_total*100,\n",
    "    \"Indígena\": count_raca[\"Indígena\"]/raca_total*100,\n",
    "}\n",
    "\n",
    "raca_pct"
   ]
  },
  {
   "cell_type": "code",
   "execution_count": 12,
   "id": "9bc765b9",
   "metadata": {},
   "outputs": [],
   "source": [
    "def cid_logical_operator_seq(letter,operator,n_start,n_stop):\n",
    "    return operator.join(letter+str(i) for i in list(range(n_start,n_stop)))"
   ]
  },
  {
   "cell_type": "code",
   "execution_count": 13,
   "id": "b19c1792",
   "metadata": {},
   "outputs": [
    {
     "data": {
      "text/plain": [
       "'A15|A16|A17|A18|A19'"
      ]
     },
     "execution_count": 13,
     "metadata": {},
     "output_type": "execute_result"
    }
   ],
   "source": [
    "cid_logical_operator_seq('A','|', 15, 20)"
   ]
  },
  {
   "cell_type": "code",
   "execution_count": 38,
   "id": "86ce2564",
   "metadata": {},
   "outputs": [
    {
     "data": {
      "text/plain": [
       "633        A183\n",
       "1038       A160\n",
       "1319       A199\n",
       "1342       A178\n",
       "1749       A162\n",
       "           ... \n",
       "3981012    A169\n",
       "3981196    A199\n",
       "3981598    A150\n",
       "3981695    A162\n",
       "3982389    A162\n",
       "Name: CAUSABAS, Length: 11984, dtype: object"
      ]
     },
     "execution_count": 38,
     "metadata": {},
     "output_type": "execute_result"
    }
   ],
   "source": [
    "df[df[\"CAUSABAS\"].str.contains(cid_logical_operator_seq('A','|', 15, 20))]['CAUSABAS']"
   ]
  },
  {
   "cell_type": "code",
   "execution_count": 27,
   "id": "6284ef71",
   "metadata": {},
   "outputs": [
    {
     "data": {
      "text/html": [
       "<div>\n",
       "<style scoped>\n",
       "    .dataframe tbody tr th:only-of-type {\n",
       "        vertical-align: middle;\n",
       "    }\n",
       "\n",
       "    .dataframe tbody tr th {\n",
       "        vertical-align: top;\n",
       "    }\n",
       "\n",
       "    .dataframe thead th {\n",
       "        text-align: right;\n",
       "    }\n",
       "</style>\n",
       "<table border=\"1\" class=\"dataframe\">\n",
       "  <thead>\n",
       "    <tr style=\"text-align: right;\">\n",
       "      <th></th>\n",
       "      <th>CONTADOR</th>\n",
       "      <th>ORIGEM</th>\n",
       "      <th>TIPOBITO</th>\n",
       "      <th>DTOBITO</th>\n",
       "      <th>HORAOBITO</th>\n",
       "      <th>NATURAL</th>\n",
       "      <th>DTNASC</th>\n",
       "      <th>SEXO</th>\n",
       "      <th>RACACOR</th>\n",
       "      <th>ESTCIV</th>\n",
       "      <th>...</th>\n",
       "      <th>TPRESGINFO</th>\n",
       "      <th>TPNIVELINV</th>\n",
       "      <th>NUDIASINF</th>\n",
       "      <th>FONTESINF</th>\n",
       "      <th>ALTCAUSA</th>\n",
       "      <th>IDADEminutos</th>\n",
       "      <th>IDADEhoras</th>\n",
       "      <th>IDADEdias</th>\n",
       "      <th>IDADEmeses</th>\n",
       "      <th>IDADEanos</th>\n",
       "    </tr>\n",
       "  </thead>\n",
       "  <tbody>\n",
       "    <tr>\n",
       "      <th>319</th>\n",
       "      <td>320</td>\n",
       "      <td>1</td>\n",
       "      <td>Não Fetal</td>\n",
       "      <td>2010-04-15</td>\n",
       "      <td>0620</td>\n",
       "      <td>NaN</td>\n",
       "      <td>1926-06-11</td>\n",
       "      <td>Masculino</td>\n",
       "      <td>Parda</td>\n",
       "      <td>Casado</td>\n",
       "      <td>...</td>\n",
       "      <td>NaN</td>\n",
       "      <td>NaN</td>\n",
       "      <td>NaN</td>\n",
       "      <td>NaN</td>\n",
       "      <td>NaN</td>\n",
       "      <td>NaN</td>\n",
       "      <td>NaN</td>\n",
       "      <td>NaN</td>\n",
       "      <td>NaN</td>\n",
       "      <td>83.0</td>\n",
       "    </tr>\n",
       "    <tr>\n",
       "      <th>8501</th>\n",
       "      <td>8502</td>\n",
       "      <td>1</td>\n",
       "      <td>Não Fetal</td>\n",
       "      <td>2010-04-09</td>\n",
       "      <td>0100</td>\n",
       "      <td>NaN</td>\n",
       "      <td>1964-06-08</td>\n",
       "      <td>Feminino</td>\n",
       "      <td>Parda</td>\n",
       "      <td>Casado</td>\n",
       "      <td>...</td>\n",
       "      <td>NaN</td>\n",
       "      <td>NaN</td>\n",
       "      <td>NaN</td>\n",
       "      <td>NaN</td>\n",
       "      <td>NaN</td>\n",
       "      <td>NaN</td>\n",
       "      <td>NaN</td>\n",
       "      <td>NaN</td>\n",
       "      <td>NaN</td>\n",
       "      <td>45.0</td>\n",
       "    </tr>\n",
       "    <tr>\n",
       "      <th>20868</th>\n",
       "      <td>20869</td>\n",
       "      <td>1</td>\n",
       "      <td>Não Fetal</td>\n",
       "      <td>2010-03-11</td>\n",
       "      <td>0230</td>\n",
       "      <td>GROENLANDIA</td>\n",
       "      <td>2010-01-22</td>\n",
       "      <td>Feminino</td>\n",
       "      <td>Branca</td>\n",
       "      <td>NaN</td>\n",
       "      <td>...</td>\n",
       "      <td>NaN</td>\n",
       "      <td>NaN</td>\n",
       "      <td>NaN</td>\n",
       "      <td>NaN</td>\n",
       "      <td>NaN</td>\n",
       "      <td>NaN</td>\n",
       "      <td>NaN</td>\n",
       "      <td>NaN</td>\n",
       "      <td>1.0</td>\n",
       "      <td>NaN</td>\n",
       "    </tr>\n",
       "    <tr>\n",
       "      <th>23362</th>\n",
       "      <td>23363</td>\n",
       "      <td>1</td>\n",
       "      <td>Não Fetal</td>\n",
       "      <td>2010-01-01</td>\n",
       "      <td>2335</td>\n",
       "      <td>NaN</td>\n",
       "      <td>1985-08-05</td>\n",
       "      <td>Masculino</td>\n",
       "      <td>Parda</td>\n",
       "      <td>NaN</td>\n",
       "      <td>...</td>\n",
       "      <td>NaN</td>\n",
       "      <td>NaN</td>\n",
       "      <td>NaN</td>\n",
       "      <td>NaN</td>\n",
       "      <td>NaN</td>\n",
       "      <td>NaN</td>\n",
       "      <td>NaN</td>\n",
       "      <td>NaN</td>\n",
       "      <td>NaN</td>\n",
       "      <td>24.0</td>\n",
       "    </tr>\n",
       "    <tr>\n",
       "      <th>27470</th>\n",
       "      <td>27471</td>\n",
       "      <td>1</td>\n",
       "      <td>Não Fetal</td>\n",
       "      <td>2010-03-15</td>\n",
       "      <td>1300</td>\n",
       "      <td>NaN</td>\n",
       "      <td>1972-12-26</td>\n",
       "      <td>Feminino</td>\n",
       "      <td>Branca</td>\n",
       "      <td>Casado</td>\n",
       "      <td>...</td>\n",
       "      <td>NaN</td>\n",
       "      <td>NaN</td>\n",
       "      <td>NaN</td>\n",
       "      <td>NaN</td>\n",
       "      <td>NaN</td>\n",
       "      <td>NaN</td>\n",
       "      <td>NaN</td>\n",
       "      <td>NaN</td>\n",
       "      <td>NaN</td>\n",
       "      <td>37.0</td>\n",
       "    </tr>\n",
       "    <tr>\n",
       "      <th>...</th>\n",
       "      <td>...</td>\n",
       "      <td>...</td>\n",
       "      <td>...</td>\n",
       "      <td>...</td>\n",
       "      <td>...</td>\n",
       "      <td>...</td>\n",
       "      <td>...</td>\n",
       "      <td>...</td>\n",
       "      <td>...</td>\n",
       "      <td>...</td>\n",
       "      <td>...</td>\n",
       "      <td>...</td>\n",
       "      <td>...</td>\n",
       "      <td>...</td>\n",
       "      <td>...</td>\n",
       "      <td>...</td>\n",
       "      <td>...</td>\n",
       "      <td>...</td>\n",
       "      <td>...</td>\n",
       "      <td>...</td>\n",
       "      <td>...</td>\n",
       "    </tr>\n",
       "    <tr>\n",
       "      <th>3973175</th>\n",
       "      <td>1501031</td>\n",
       "      <td>1</td>\n",
       "      <td>Não Fetal</td>\n",
       "      <td>2022-10-17</td>\n",
       "      <td>0441</td>\n",
       "      <td>NaN</td>\n",
       "      <td>1956-11-26</td>\n",
       "      <td>Feminino</td>\n",
       "      <td>Parda</td>\n",
       "      <td>Casado</td>\n",
       "      <td>...</td>\n",
       "      <td>NaN</td>\n",
       "      <td>NaN</td>\n",
       "      <td>NaN</td>\n",
       "      <td>NaN</td>\n",
       "      <td>NaN</td>\n",
       "      <td>NaN</td>\n",
       "      <td>NaN</td>\n",
       "      <td>NaN</td>\n",
       "      <td>NaN</td>\n",
       "      <td>65.0</td>\n",
       "    </tr>\n",
       "    <tr>\n",
       "      <th>3973585</th>\n",
       "      <td>1503058</td>\n",
       "      <td>1</td>\n",
       "      <td>Não Fetal</td>\n",
       "      <td>2022-07-16</td>\n",
       "      <td>2232</td>\n",
       "      <td>NaN</td>\n",
       "      <td>1959-09-28</td>\n",
       "      <td>Masculino</td>\n",
       "      <td>Branca</td>\n",
       "      <td>Casado</td>\n",
       "      <td>...</td>\n",
       "      <td>NaN</td>\n",
       "      <td>NaN</td>\n",
       "      <td>NaN</td>\n",
       "      <td>NaN</td>\n",
       "      <td>NaN</td>\n",
       "      <td>NaN</td>\n",
       "      <td>NaN</td>\n",
       "      <td>NaN</td>\n",
       "      <td>NaN</td>\n",
       "      <td>62.0</td>\n",
       "    </tr>\n",
       "    <tr>\n",
       "      <th>3973777</th>\n",
       "      <td>1503551</td>\n",
       "      <td>1</td>\n",
       "      <td>Não Fetal</td>\n",
       "      <td>2022-07-08</td>\n",
       "      <td>1335</td>\n",
       "      <td>NaN</td>\n",
       "      <td>1950-05-04</td>\n",
       "      <td>Feminino</td>\n",
       "      <td>Branca</td>\n",
       "      <td>Solteiro</td>\n",
       "      <td>...</td>\n",
       "      <td>NaN</td>\n",
       "      <td>NaN</td>\n",
       "      <td>NaN</td>\n",
       "      <td>NaN</td>\n",
       "      <td>NaN</td>\n",
       "      <td>NaN</td>\n",
       "      <td>NaN</td>\n",
       "      <td>NaN</td>\n",
       "      <td>NaN</td>\n",
       "      <td>72.0</td>\n",
       "    </tr>\n",
       "    <tr>\n",
       "      <th>3979932</th>\n",
       "      <td>1532851</td>\n",
       "      <td>1</td>\n",
       "      <td>Não Fetal</td>\n",
       "      <td>2022-08-01</td>\n",
       "      <td>2030</td>\n",
       "      <td>NaN</td>\n",
       "      <td>1968-09-13</td>\n",
       "      <td>Feminino</td>\n",
       "      <td>Branca</td>\n",
       "      <td>Solteiro</td>\n",
       "      <td>...</td>\n",
       "      <td>NaN</td>\n",
       "      <td>NaN</td>\n",
       "      <td>NaN</td>\n",
       "      <td>NaN</td>\n",
       "      <td>NaN</td>\n",
       "      <td>NaN</td>\n",
       "      <td>NaN</td>\n",
       "      <td>NaN</td>\n",
       "      <td>NaN</td>\n",
       "      <td>53.0</td>\n",
       "    </tr>\n",
       "    <tr>\n",
       "      <th>3980946</th>\n",
       "      <td>1536017</td>\n",
       "      <td>1</td>\n",
       "      <td>Não Fetal</td>\n",
       "      <td>2022-07-01</td>\n",
       "      <td>0834</td>\n",
       "      <td>NaN</td>\n",
       "      <td>1961-01-22</td>\n",
       "      <td>Feminino</td>\n",
       "      <td>Amarela</td>\n",
       "      <td>Solteiro</td>\n",
       "      <td>...</td>\n",
       "      <td>NaN</td>\n",
       "      <td>NaN</td>\n",
       "      <td>NaN</td>\n",
       "      <td>NaN</td>\n",
       "      <td>NaN</td>\n",
       "      <td>NaN</td>\n",
       "      <td>NaN</td>\n",
       "      <td>NaN</td>\n",
       "      <td>NaN</td>\n",
       "      <td>61.0</td>\n",
       "    </tr>\n",
       "  </tbody>\n",
       "</table>\n",
       "<p>1067 rows × 100 columns</p>\n",
       "</div>"
      ],
      "text/plain": [
       "         CONTADOR  ORIGEM   TIPOBITO     DTOBITO HORAOBITO      NATURAL  \\\n",
       "319           320       1  Não Fetal  2010-04-15      0620          NaN   \n",
       "8501         8502       1  Não Fetal  2010-04-09      0100          NaN   \n",
       "20868       20869       1  Não Fetal  2010-03-11      0230  GROENLANDIA   \n",
       "23362       23363       1  Não Fetal  2010-01-01      2335          NaN   \n",
       "27470       27471       1  Não Fetal  2010-03-15      1300          NaN   \n",
       "...           ...     ...        ...         ...       ...          ...   \n",
       "3973175   1501031       1  Não Fetal  2022-10-17      0441          NaN   \n",
       "3973585   1503058       1  Não Fetal  2022-07-16      2232          NaN   \n",
       "3973777   1503551       1  Não Fetal  2022-07-08      1335          NaN   \n",
       "3979932   1532851       1  Não Fetal  2022-08-01      2030          NaN   \n",
       "3980946   1536017       1  Não Fetal  2022-07-01      0834          NaN   \n",
       "\n",
       "             DTNASC       SEXO  RACACOR    ESTCIV  ... TPRESGINFO TPNIVELINV  \\\n",
       "319      1926-06-11  Masculino    Parda    Casado  ...        NaN        NaN   \n",
       "8501     1964-06-08   Feminino    Parda    Casado  ...        NaN        NaN   \n",
       "20868    2010-01-22   Feminino   Branca       NaN  ...        NaN        NaN   \n",
       "23362    1985-08-05  Masculino    Parda       NaN  ...        NaN        NaN   \n",
       "27470    1972-12-26   Feminino   Branca    Casado  ...        NaN        NaN   \n",
       "...             ...        ...      ...       ...  ...        ...        ...   \n",
       "3973175  1956-11-26   Feminino    Parda    Casado  ...        NaN        NaN   \n",
       "3973585  1959-09-28  Masculino   Branca    Casado  ...        NaN        NaN   \n",
       "3973777  1950-05-04   Feminino   Branca  Solteiro  ...        NaN        NaN   \n",
       "3979932  1968-09-13   Feminino   Branca  Solteiro  ...        NaN        NaN   \n",
       "3980946  1961-01-22   Feminino  Amarela  Solteiro  ...        NaN        NaN   \n",
       "\n",
       "         NUDIASINF  FONTESINF ALTCAUSA  IDADEminutos  IDADEhoras  IDADEdias  \\\n",
       "319            NaN        NaN      NaN           NaN         NaN        NaN   \n",
       "8501           NaN        NaN      NaN           NaN         NaN        NaN   \n",
       "20868          NaN        NaN      NaN           NaN         NaN        NaN   \n",
       "23362          NaN        NaN      NaN           NaN         NaN        NaN   \n",
       "27470          NaN        NaN      NaN           NaN         NaN        NaN   \n",
       "...            ...        ...      ...           ...         ...        ...   \n",
       "3973175        NaN        NaN      NaN           NaN         NaN        NaN   \n",
       "3973585        NaN        NaN      NaN           NaN         NaN        NaN   \n",
       "3973777        NaN        NaN      NaN           NaN         NaN        NaN   \n",
       "3979932        NaN        NaN      NaN           NaN         NaN        NaN   \n",
       "3980946        NaN        NaN      NaN           NaN         NaN        NaN   \n",
       "\n",
       "         IDADEmeses IDADEanos  \n",
       "319             NaN      83.0  \n",
       "8501            NaN      45.0  \n",
       "20868           1.0       NaN  \n",
       "23362           NaN      24.0  \n",
       "27470           NaN      37.0  \n",
       "...             ...       ...  \n",
       "3973175         NaN      65.0  \n",
       "3973585         NaN      62.0  \n",
       "3973777         NaN      72.0  \n",
       "3979932         NaN      53.0  \n",
       "3980946         NaN      61.0  \n",
       "\n",
       "[1067 rows x 100 columns]"
      ]
     },
     "execution_count": 27,
     "metadata": {},
     "output_type": "execute_result"
    }
   ],
   "source": [
    "df[df['CAUSABAS'].str.contains(cid_logical_operator_seq('A','|', 80, 90))]"
   ]
  },
  {
   "cell_type": "code",
   "execution_count": 32,
   "id": "f51d930d",
   "metadata": {},
   "outputs": [
    {
     "data": {
      "text/plain": [
       "266253     N759\n",
       "516635     N751\n",
       "982008     N758\n",
       "1226745    N759\n",
       "1280646    N758\n",
       "1439464    N758\n",
       "1537204    N758\n",
       "2093017    N758\n",
       "2217053    N751\n",
       "2264485    N751\n",
       "2306004    N758\n",
       "2475523    N758\n",
       "2682379    N750\n",
       "2869299    N751\n",
       "3678983    N758\n",
       "Name: CAUSABAS, dtype: object"
      ]
     },
     "execution_count": 32,
     "metadata": {},
     "output_type": "execute_result"
    }
   ],
   "source": [
    "df[df['CAUSABAS'].str.contains('N75')]['CAUSABAS']"
   ]
  },
  {
   "cell_type": "code",
   "execution_count": 57,
   "id": "4e4d931d",
   "metadata": {},
   "outputs": [
    {
     "data": {
      "text/plain": [
       "184"
      ]
     },
     "execution_count": 57,
     "metadata": {},
     "output_type": "execute_result"
    }
   ],
   "source": [
    "len(np.unique(df[df['CAUSABAS'].str.len()==3]['CAUSABAS']))"
   ]
  },
  {
   "cell_type": "code",
   "execution_count": 58,
   "id": "a65280f2",
   "metadata": {},
   "outputs": [
    {
     "data": {
      "text/plain": [
       "array(['A09', 'A35', 'A38', 'A46', 'A55', 'A57', 'A58', 'A64', 'A70',\n",
       "       'A86', 'A89', 'A90', 'A91', 'A94', 'A99', 'B04', 'B09', 'B24',\n",
       "       'B49', 'B54', 'B59', 'B64', 'B86', 'B89', 'B91', 'B92', 'B99',\n",
       "       'C01', 'C07', 'C12', 'C19', 'C20', 'C23', 'C33', 'C37', 'C52',\n",
       "       'C55', 'C56', 'C58', 'C61', 'C64', 'C65', 'C66', 'C73', 'C80',\n",
       "       'C97', 'D24', 'D27', 'D34', 'D45', 'D62', 'D65', 'D66', 'D67',\n",
       "       'D70', 'D71', 'E02', 'E15', 'E40', 'E41', 'E42', 'E43', 'E45',\n",
       "       'E46', 'E52', 'E54', 'E58', 'E59', 'E65', 'E68', 'E86', 'F03',\n",
       "       'F09', 'F21', 'F28', 'F29', 'F39', 'F54', 'F55', 'F82', 'F83',\n",
       "       'F88', 'F89', 'F99', 'G08', 'G09', 'G10', 'G20', 'G35', 'G64',\n",
       "       'G92', 'G98', 'H71', 'I00', 'I10', 'I38', 'I48', 'I64', 'I81',\n",
       "       'I99', 'J00', 'J09', 'J13', 'J14', 'J22', 'J36', 'J40', 'J42',\n",
       "       'J46', 'J47', 'J60', 'J61', 'J64', 'J65', 'J80', 'J81', 'J82',\n",
       "       'J90', 'J91', 'K20', 'K30', 'K36', 'K37', 'L00', 'L26', 'L52',\n",
       "       'L88', 'L89', 'L97', 'M45', 'N10', 'N12', 'N19', 'N23', 'N26',\n",
       "       'N40', 'N47', 'N61', 'N62', 'N63', 'N72', 'O11', 'O13', 'O16',\n",
       "       'O25', 'O85', 'O94', 'O95', 'O96', 'O97', 'P38', 'P53', 'P60',\n",
       "       'P77', 'P90', 'Q02', 'R02', 'R05', 'R11', 'R13', 'R14', 'R17',\n",
       "       'R18', 'R21', 'R31', 'R33', 'R34', 'R36', 'R51', 'R53', 'R54',\n",
       "       'R55', 'R58', 'R64', 'R72', 'R91', 'R92', 'R95', 'R98', 'R99',\n",
       "       'V98', 'V99', 'Y69', 'Y86'], dtype=object)"
      ]
     },
     "execution_count": 58,
     "metadata": {},
     "output_type": "execute_result"
    }
   ],
   "source": [
    "np.unique(df[df['CAUSABAS'].str.len()==3]['CAUSABAS'])"
   ]
  },
  {
   "cell_type": "code",
   "execution_count": 44,
   "id": "60ca0650",
   "metadata": {},
   "outputs": [
    {
     "data": {
      "text/plain": [
       "0          J180\n",
       "5           J81\n",
       "6           J81\n",
       "11         J628\n",
       "54         J180\n",
       "           ... \n",
       "3982885    J180\n",
       "3982896    J189\n",
       "3982899    J189\n",
       "3982900     J47\n",
       "3982901    J189\n",
       "Name: CAUSABAS, Length: 497662, dtype: object"
      ]
     },
     "execution_count": 44,
     "metadata": {},
     "output_type": "execute_result"
    }
   ],
   "source": [
    "df[df['CAUSABAS'].str.contains(cid_logical_operator_seq('J','|', 1, 90))]['CAUSABAS']"
   ]
  }
 ],
 "metadata": {
  "kernelspec": {
   "display_name": "Python 3",
   "language": "python",
   "name": "python3"
  },
  "language_info": {
   "codemirror_mode": {
    "name": "ipython",
    "version": 3
   },
   "file_extension": ".py",
   "mimetype": "text/x-python",
   "name": "python",
   "nbconvert_exporter": "python",
   "pygments_lexer": "ipython3",
   "version": "3.11.3"
  }
 },
 "nbformat": 4,
 "nbformat_minor": 5
}
